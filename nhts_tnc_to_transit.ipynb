{
 "cells": [
  {
   "cell_type": "markdown",
   "metadata": {},
   "source": [
    "# TNC to Transit\n",
    "How many people in the NHTS use TNCs to get to transit? How many in San Francisco?  "
   ]
  },
  {
   "cell_type": "markdown",
   "metadata": {},
   "source": [
    "## Setup"
   ]
  },
  {
   "cell_type": "code",
   "execution_count": 1,
   "metadata": {},
   "outputs": [],
   "source": [
    "import sys, os, re\n",
    "import numpy as np\n",
    "import pandas as pd\n",
    "import geopandas as gpd\n",
    "\n",
    "%matplotlib inline\n",
    "import matplotlib.pyplot as plt"
   ]
  },
  {
   "cell_type": "code",
   "execution_count": 2,
   "metadata": {},
   "outputs": [],
   "source": [
    "INDIR = r'Q:\\Data\\Surveys\\HouseholdSurveys\\NHTS\\2017'\n",
    "SURVEY = r'survey'\n",
    "WEIGHTS = r'weights'\n",
    "TOURS = r'tripchain'\n",
    "\n",
    "HHLDS = 'hhpub.csv'\n",
    "PERS = 'perpub.csv'\n",
    "TRIPS = 'trippub.csv'\n",
    "VEHS = 'vehpub.csv'\n",
    "\n",
    "HHWGT = 'hhwgt.csv'\n",
    "PSWGT = 'perwgt.csv'"
   ]
  },
  {
   "cell_type": "code",
   "execution_count": 3,
   "metadata": {},
   "outputs": [],
   "source": [
    "mode_num_to_name = {-9:'Not ascertained',\n",
    "                    -8:'I don\\'t know',\n",
    "                    -7:'I prefer not to answer',\n",
    "                    1:'Walk', 2:'Bicycle', 3:'Car',\n",
    "                    4:'SUV', 5:'Van', 6:'Pickup truck',\n",
    "                    7:'Golf cart / Segway', 8:'Motorcycle / Moped',\n",
    "                    9:'RV (motor home, ATV, snowmobile)', \n",
    "                    10:'School bus', 11:'Public or commuter bus',\n",
    "                    12:'Paratransit / Dial-a-ride',\n",
    "                    13:'Private / Charter / Tour / Shuttle bus',\n",
    "                    14:'City-to-city bus (Greyhound, Megabus)',\n",
    "                    15:'Amtrak / Commuter rail',\n",
    "                    16:'Subway / elevated / light rail / street car',\n",
    "                    17:'Taxi / limo (including Uber / Lyft)',\n",
    "                    18:'Rental car (Including Zipcar / Car2Go)',\n",
    "                    19:'Airplane',\n",
    "                    20:'Boat / ferry / water taxi',\n",
    "                    97:'Something Else'\n",
    "                    }\n",
    "purp_num_to_name = {-9:'Not ascertained',-8:'I don\\'t know',-7:'I prefer not to answer',\n",
    "                    1:'Regular home activities (chores, sleep)',\n",
    "                    2:'Work from home (paid)',3:'Work',4:'Work-related meeting / trip',\n",
    "                    5:'Volunteer activities (not paid)',6:'Drop off /pick up someone',\n",
    "                    7:'Change type of transportation',8:'Attend school as a student',\n",
    "                    9:'Attend child care',10:'Attend adult care',\n",
    "                    11:'Buy goods (groceries, clothes, appliances, gas)',\n",
    "                    12:'Buy services (dry cleaners, banking, service a car, pet care)',\n",
    "                    13:'Buy meals (go out for a meal, snack, carry-out)',\n",
    "                    14:'Other general errands (post office, library)',\n",
    "                    15:'Recreational activities (visit parks, movies, bars, museums)',\n",
    "                    16:'Exercise (go for a jog, walk, walk the dog, go to the gym)',\n",
    "                    17:'Visit friends or relatives',\n",
    "                    18:'Health care visit (medical, dental, therapy)',\n",
    "                    19:'Religious or other community activities',\n",
    "                    97:'Something else'}"
   ]
  },
  {
   "cell_type": "markdown",
   "metadata": {},
   "source": [
    "## Read files"
   ]
  },
  {
   "cell_type": "code",
   "execution_count": 4,
   "metadata": {},
   "outputs": [],
   "source": [
    "hh = pd.read_csv(os.path.join(INDIR,SURVEY,HHLDS))\n",
    "ps = pd.read_csv(os.path.join(INDIR,SURVEY,PERS))\n",
    "trips = pd.read_csv(os.path.join(INDIR,SURVEY,TRIPS))"
   ]
  },
  {
   "cell_type": "markdown",
   "metadata": {},
   "source": [
    "## Create and populate next trip and last trip fields"
   ]
  },
  {
   "cell_type": "code",
   "execution_count": 5,
   "metadata": {
    "scrolled": true
   },
   "outputs": [],
   "source": [
    "# get the next trip mode\n",
    "trips['nextTripSamePerson'] = trips['HOUSEID'].eq(trips['HOUSEID'].shift(-1)) & trips['PERSONID'].eq(trips['PERSONID'].shift(-1))\n",
    "trips['NEXTTRPTRANS'] = trips['TRPTRANS'].shift(-1)\n",
    "trips.loc[~trips['nextTripSamePerson'], 'NEXTTRPTRANS'] = np.nan\n",
    "\n",
    "# get the last trip mode\n",
    "trips['lastTripSamePerson'] = trips['HOUSEID'].eq(trips['HOUSEID'].shift(1)) & trips['PERSONID'].eq(trips['PERSONID'].shift(1))\n",
    "trips['LASTTRPTRANS'] = trips['TRPTRANS'].shift(1)\n",
    "trips.loc[~trips['lastTripSamePerson'], 'LASTTRPTRANS'] = np.nan"
   ]
  },
  {
   "cell_type": "markdown",
   "metadata": {},
   "source": [
    "## National"
   ]
  },
  {
   "cell_type": "code",
   "execution_count": 6,
   "metadata": {},
   "outputs": [],
   "source": [
    "modes = pd.DataFrame(index=list(mode_num_to_name.keys()), data=list(mode_num_to_name.values()), columns=['name'])\n",
    "modes['tnc_trips_acc_to'] = trips.loc[trips['WHYTO'].eq(7) & trips['TRPTRANS'].eq(17)].groupby('NEXTTRPTRANS').size()\n",
    "modes['tnc_trips_egr_from'] = trips.loc[trips['WHYFROM'].eq(7) & trips['TRPTRANS'].eq(17)].groupby('LASTTRPTRANS').size()\n",
    "modes.fillna(0, inplace=True)"
   ]
  },
  {
   "cell_type": "markdown",
   "metadata": {},
   "source": [
    "### National TNC Access or Egress to Transit Totals"
   ]
  },
  {
   "cell_type": "code",
   "execution_count": 7,
   "metadata": {},
   "outputs": [
    {
     "data": {
      "text/html": [
       "<div>\n",
       "<style scoped>\n",
       "    .dataframe tbody tr th:only-of-type {\n",
       "        vertical-align: middle;\n",
       "    }\n",
       "\n",
       "    .dataframe tbody tr th {\n",
       "        vertical-align: top;\n",
       "    }\n",
       "\n",
       "    .dataframe thead th {\n",
       "        text-align: right;\n",
       "    }\n",
       "</style>\n",
       "<table border=\"1\" class=\"dataframe\">\n",
       "  <thead>\n",
       "    <tr style=\"text-align: right;\">\n",
       "      <th></th>\n",
       "      <th>name</th>\n",
       "      <th>tnc_trips_acc_to</th>\n",
       "      <th>tnc_trips_egr_from</th>\n",
       "    </tr>\n",
       "  </thead>\n",
       "  <tbody>\n",
       "    <tr>\n",
       "      <th>11</th>\n",
       "      <td>Public or commuter bus</td>\n",
       "      <td>0.0</td>\n",
       "      <td>1.0</td>\n",
       "    </tr>\n",
       "    <tr>\n",
       "      <th>12</th>\n",
       "      <td>Paratransit / Dial-a-ride</td>\n",
       "      <td>1.0</td>\n",
       "      <td>0.0</td>\n",
       "    </tr>\n",
       "    <tr>\n",
       "      <th>13</th>\n",
       "      <td>Private / Charter / Tour / Shuttle bus</td>\n",
       "      <td>2.0</td>\n",
       "      <td>3.0</td>\n",
       "    </tr>\n",
       "    <tr>\n",
       "      <th>14</th>\n",
       "      <td>City-to-city bus (Greyhound, Megabus)</td>\n",
       "      <td>1.0</td>\n",
       "      <td>0.0</td>\n",
       "    </tr>\n",
       "    <tr>\n",
       "      <th>15</th>\n",
       "      <td>Amtrak / Commuter rail</td>\n",
       "      <td>4.0</td>\n",
       "      <td>7.0</td>\n",
       "    </tr>\n",
       "    <tr>\n",
       "      <th>16</th>\n",
       "      <td>Subway / elevated / light rail / street car</td>\n",
       "      <td>0.0</td>\n",
       "      <td>1.0</td>\n",
       "    </tr>\n",
       "    <tr>\n",
       "      <th>20</th>\n",
       "      <td>Boat / ferry / water taxi</td>\n",
       "      <td>1.0</td>\n",
       "      <td>2.0</td>\n",
       "    </tr>\n",
       "  </tbody>\n",
       "</table>\n",
       "</div>"
      ],
      "text/plain": [
       "                                           name  tnc_trips_acc_to  \\\n",
       "11                       Public or commuter bus               0.0   \n",
       "12                    Paratransit / Dial-a-ride               1.0   \n",
       "13       Private / Charter / Tour / Shuttle bus               2.0   \n",
       "14        City-to-city bus (Greyhound, Megabus)               1.0   \n",
       "15                       Amtrak / Commuter rail               4.0   \n",
       "16  Subway / elevated / light rail / street car               0.0   \n",
       "20                    Boat / ferry / water taxi               1.0   \n",
       "\n",
       "    tnc_trips_egr_from  \n",
       "11                 1.0  \n",
       "12                 0.0  \n",
       "13                 3.0  \n",
       "14                 0.0  \n",
       "15                 7.0  \n",
       "16                 1.0  \n",
       "20                 2.0  "
      ]
     },
     "execution_count": 7,
     "metadata": {},
     "output_type": "execute_result"
    }
   ],
   "source": [
    "modes.loc[[11, 12, 13, 14, 15, 16, 20]]"
   ]
  },
  {
   "cell_type": "code",
   "execution_count": 8,
   "metadata": {},
   "outputs": [
    {
     "data": {
      "text/plain": [
       "tnc_trips_acc_to       9.0\n",
       "tnc_trips_egr_from    14.0\n",
       "dtype: float64"
      ]
     },
     "execution_count": 8,
     "metadata": {},
     "output_type": "execute_result"
    }
   ],
   "source": [
    "modes.loc[[11, 12, 13, 14, 15, 16, 20],['tnc_trips_acc_to','tnc_trips_egr_from']].sum()"
   ]
  },
  {
   "cell_type": "markdown",
   "metadata": {},
   "source": [
    "## California"
   ]
  },
  {
   "cell_type": "code",
   "execution_count": 9,
   "metadata": {},
   "outputs": [
    {
     "name": "stderr",
     "output_type": "stream",
     "text": [
      "C:\\Anaconda3\\lib\\site-packages\\ipykernel_launcher.py:6: FutureWarning: \n",
      "Passing list-likes to .loc or [] with any missing label will raise\n",
      "KeyError in the future, you can use .reindex() as an alternative.\n",
      "\n",
      "See the documentation here:\n",
      "https://pandas.pydata.org/pandas-docs/stable/indexing.html#deprecate-loc-reindex-listlike\n",
      "  \n"
     ]
    }
   ],
   "source": [
    "hhca = hh.loc[hh['HHSTATE'].eq('CA')].set_index('HOUSEID')\n",
    "psca = ps.set_index('HOUSEID')\n",
    "psca = psca.loc[hhca.index]\n",
    "psca = psca.reset_index().set_index(['HOUSEID','PERSONID'])\n",
    "tripsca = trips.set_index(['HOUSEID','PERSONID'])\n",
    "tripsca = tripsca.loc[psca.index]\n",
    "\n",
    "hhca.reset_index(inplace=True)\n",
    "psca.reset_index(inplace=True)\n",
    "tripsca.reset_index(inplace=True)"
   ]
  },
  {
   "cell_type": "code",
   "execution_count": 10,
   "metadata": {},
   "outputs": [],
   "source": [
    "modesca = pd.DataFrame(index=list(mode_num_to_name.keys()), data=list(mode_num_to_name.values()), columns=['name'])\n",
    "modesca['tnc_trips_acc_to'] = tripsca.loc[tripsca['WHYTO'].eq(7) & tripsca['TRPTRANS'].eq(17)].groupby('NEXTTRPTRANS').size()\n",
    "modesca['tnc_trips_egr_from'] = tripsca.loc[tripsca['WHYFROM'].eq(7) & tripsca['TRPTRANS'].eq(17)].groupby('LASTTRPTRANS').size()\n",
    "modesca.fillna(0, inplace=True)"
   ]
  },
  {
   "cell_type": "markdown",
   "metadata": {},
   "source": [
    "### California TNC Access or Egress to Transit Totals"
   ]
  },
  {
   "cell_type": "code",
   "execution_count": 11,
   "metadata": {},
   "outputs": [
    {
     "data": {
      "text/html": [
       "<div>\n",
       "<style scoped>\n",
       "    .dataframe tbody tr th:only-of-type {\n",
       "        vertical-align: middle;\n",
       "    }\n",
       "\n",
       "    .dataframe tbody tr th {\n",
       "        vertical-align: top;\n",
       "    }\n",
       "\n",
       "    .dataframe thead th {\n",
       "        text-align: right;\n",
       "    }\n",
       "</style>\n",
       "<table border=\"1\" class=\"dataframe\">\n",
       "  <thead>\n",
       "    <tr style=\"text-align: right;\">\n",
       "      <th></th>\n",
       "      <th>name</th>\n",
       "      <th>tnc_trips_acc_to</th>\n",
       "      <th>tnc_trips_egr_from</th>\n",
       "    </tr>\n",
       "  </thead>\n",
       "  <tbody>\n",
       "    <tr>\n",
       "      <th>11</th>\n",
       "      <td>Public or commuter bus</td>\n",
       "      <td>0.0</td>\n",
       "      <td>0.0</td>\n",
       "    </tr>\n",
       "    <tr>\n",
       "      <th>12</th>\n",
       "      <td>Paratransit / Dial-a-ride</td>\n",
       "      <td>0.0</td>\n",
       "      <td>0.0</td>\n",
       "    </tr>\n",
       "    <tr>\n",
       "      <th>13</th>\n",
       "      <td>Private / Charter / Tour / Shuttle bus</td>\n",
       "      <td>0.0</td>\n",
       "      <td>2.0</td>\n",
       "    </tr>\n",
       "    <tr>\n",
       "      <th>14</th>\n",
       "      <td>City-to-city bus (Greyhound, Megabus)</td>\n",
       "      <td>0.0</td>\n",
       "      <td>0.0</td>\n",
       "    </tr>\n",
       "    <tr>\n",
       "      <th>15</th>\n",
       "      <td>Amtrak / Commuter rail</td>\n",
       "      <td>0.0</td>\n",
       "      <td>0.0</td>\n",
       "    </tr>\n",
       "    <tr>\n",
       "      <th>16</th>\n",
       "      <td>Subway / elevated / light rail / street car</td>\n",
       "      <td>0.0</td>\n",
       "      <td>0.0</td>\n",
       "    </tr>\n",
       "    <tr>\n",
       "      <th>20</th>\n",
       "      <td>Boat / ferry / water taxi</td>\n",
       "      <td>0.0</td>\n",
       "      <td>1.0</td>\n",
       "    </tr>\n",
       "  </tbody>\n",
       "</table>\n",
       "</div>"
      ],
      "text/plain": [
       "                                           name  tnc_trips_acc_to  \\\n",
       "11                       Public or commuter bus               0.0   \n",
       "12                    Paratransit / Dial-a-ride               0.0   \n",
       "13       Private / Charter / Tour / Shuttle bus               0.0   \n",
       "14        City-to-city bus (Greyhound, Megabus)               0.0   \n",
       "15                       Amtrak / Commuter rail               0.0   \n",
       "16  Subway / elevated / light rail / street car               0.0   \n",
       "20                    Boat / ferry / water taxi               0.0   \n",
       "\n",
       "    tnc_trips_egr_from  \n",
       "11                 0.0  \n",
       "12                 0.0  \n",
       "13                 2.0  \n",
       "14                 0.0  \n",
       "15                 0.0  \n",
       "16                 0.0  \n",
       "20                 1.0  "
      ]
     },
     "execution_count": 11,
     "metadata": {},
     "output_type": "execute_result"
    }
   ],
   "source": [
    "modesca.loc[[11, 12, 13, 14, 15, 16, 20]]"
   ]
  },
  {
   "cell_type": "code",
   "execution_count": 12,
   "metadata": {},
   "outputs": [
    {
     "data": {
      "text/plain": [
       "tnc_trips_acc_to      0.0\n",
       "tnc_trips_egr_from    3.0\n",
       "dtype: float64"
      ]
     },
     "execution_count": 12,
     "metadata": {},
     "output_type": "execute_result"
    }
   ],
   "source": [
    "modesca.loc[[11, 12, 13, 14, 15, 16, 20],['tnc_trips_acc_to','tnc_trips_egr_from']].sum()"
   ]
  },
  {
   "cell_type": "markdown",
   "metadata": {},
   "source": [
    "## San Francisco"
   ]
  },
  {
   "cell_type": "code",
   "execution_count": 13,
   "metadata": {
    "scrolled": true
   },
   "outputs": [],
   "source": [
    "tripssf = trips.loc[trips['HH_CBSA'].eq('41860')]"
   ]
  },
  {
   "cell_type": "code",
   "execution_count": 14,
   "metadata": {},
   "outputs": [],
   "source": [
    "modessf = pd.DataFrame(index=list(mode_num_to_name.keys()), data=list(mode_num_to_name.values()), columns=['name'])\n",
    "modessf['tnc_trips_acc_to'] = tripssf.loc[tripssf['WHYTO'].eq(7) & tripssf['TRPTRANS'].eq(17)].groupby('NEXTTRPTRANS').size()\n",
    "modessf['tnc_trips_egr_from'] = tripssf.loc[tripssf['WHYFROM'].eq(7) & tripssf['TRPTRANS'].eq(17)].groupby('LASTTRPTRANS').size()\n",
    "modessf.fillna(0, inplace=True)"
   ]
  },
  {
   "cell_type": "markdown",
   "metadata": {},
   "source": [
    "### San Francisco TNC Access or Egress to Transit Totals"
   ]
  },
  {
   "cell_type": "code",
   "execution_count": 15,
   "metadata": {
    "scrolled": true
   },
   "outputs": [
    {
     "data": {
      "text/html": [
       "<div>\n",
       "<style scoped>\n",
       "    .dataframe tbody tr th:only-of-type {\n",
       "        vertical-align: middle;\n",
       "    }\n",
       "\n",
       "    .dataframe tbody tr th {\n",
       "        vertical-align: top;\n",
       "    }\n",
       "\n",
       "    .dataframe thead th {\n",
       "        text-align: right;\n",
       "    }\n",
       "</style>\n",
       "<table border=\"1\" class=\"dataframe\">\n",
       "  <thead>\n",
       "    <tr style=\"text-align: right;\">\n",
       "      <th></th>\n",
       "      <th>name</th>\n",
       "      <th>tnc_trips_acc_to</th>\n",
       "      <th>tnc_trips_egr_from</th>\n",
       "    </tr>\n",
       "  </thead>\n",
       "  <tbody>\n",
       "    <tr>\n",
       "      <th>11</th>\n",
       "      <td>Public or commuter bus</td>\n",
       "      <td>0.0</td>\n",
       "      <td>0.0</td>\n",
       "    </tr>\n",
       "    <tr>\n",
       "      <th>12</th>\n",
       "      <td>Paratransit / Dial-a-ride</td>\n",
       "      <td>0.0</td>\n",
       "      <td>0.0</td>\n",
       "    </tr>\n",
       "    <tr>\n",
       "      <th>13</th>\n",
       "      <td>Private / Charter / Tour / Shuttle bus</td>\n",
       "      <td>0.0</td>\n",
       "      <td>2.0</td>\n",
       "    </tr>\n",
       "    <tr>\n",
       "      <th>14</th>\n",
       "      <td>City-to-city bus (Greyhound, Megabus)</td>\n",
       "      <td>0.0</td>\n",
       "      <td>0.0</td>\n",
       "    </tr>\n",
       "    <tr>\n",
       "      <th>15</th>\n",
       "      <td>Amtrak / Commuter rail</td>\n",
       "      <td>0.0</td>\n",
       "      <td>0.0</td>\n",
       "    </tr>\n",
       "    <tr>\n",
       "      <th>16</th>\n",
       "      <td>Subway / elevated / light rail / street car</td>\n",
       "      <td>0.0</td>\n",
       "      <td>0.0</td>\n",
       "    </tr>\n",
       "    <tr>\n",
       "      <th>20</th>\n",
       "      <td>Boat / ferry / water taxi</td>\n",
       "      <td>0.0</td>\n",
       "      <td>0.0</td>\n",
       "    </tr>\n",
       "  </tbody>\n",
       "</table>\n",
       "</div>"
      ],
      "text/plain": [
       "                                           name  tnc_trips_acc_to  \\\n",
       "11                       Public or commuter bus               0.0   \n",
       "12                    Paratransit / Dial-a-ride               0.0   \n",
       "13       Private / Charter / Tour / Shuttle bus               0.0   \n",
       "14        City-to-city bus (Greyhound, Megabus)               0.0   \n",
       "15                       Amtrak / Commuter rail               0.0   \n",
       "16  Subway / elevated / light rail / street car               0.0   \n",
       "20                    Boat / ferry / water taxi               0.0   \n",
       "\n",
       "    tnc_trips_egr_from  \n",
       "11                 0.0  \n",
       "12                 0.0  \n",
       "13                 2.0  \n",
       "14                 0.0  \n",
       "15                 0.0  \n",
       "16                 0.0  \n",
       "20                 0.0  "
      ]
     },
     "execution_count": 15,
     "metadata": {},
     "output_type": "execute_result"
    }
   ],
   "source": [
    "modessf.loc[[11, 12, 13, 14, 15, 16, 20]]"
   ]
  },
  {
   "cell_type": "code",
   "execution_count": 16,
   "metadata": {},
   "outputs": [
    {
     "data": {
      "text/plain": [
       "tnc_trips_acc_to      0.0\n",
       "tnc_trips_egr_from    2.0\n",
       "dtype: float64"
      ]
     },
     "execution_count": 16,
     "metadata": {},
     "output_type": "execute_result"
    }
   ],
   "source": [
    "modessf.loc[[11, 12, 13, 14, 15, 16, 20],['tnc_trips_acc_to','tnc_trips_egr_from']].sum()"
   ]
  }
 ],
 "metadata": {
  "kernelspec": {
   "display_name": "Python 3",
   "language": "python",
   "name": "python3"
  },
  "language_info": {
   "codemirror_mode": {
    "name": "ipython",
    "version": 3
   },
   "file_extension": ".py",
   "mimetype": "text/x-python",
   "name": "python",
   "nbconvert_exporter": "python",
   "pygments_lexer": "ipython3",
   "version": "3.6.5"
  }
 },
 "nbformat": 4,
 "nbformat_minor": 2
}
